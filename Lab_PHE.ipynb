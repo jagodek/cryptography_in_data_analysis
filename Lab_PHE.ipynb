{
 "cells": [
  {
   "cell_type": "markdown",
   "id": "69c572c1",
   "metadata": {},
   "source": [
    "# Metody Kryptografii w analizie danych\n",
    "\n",
    "# Kryptosystemy częściowo homomorficzne"
   ]
  },
  {
   "cell_type": "markdown",
   "id": "ee0784ce",
   "metadata": {},
   "source": [
    "## RSA\n",
    "\n",
    "Mamy klucz publiczny $(n,e)$ i klucz prywatny $(n,d)$. Szyfrujemy tym samym kluczem publicznym dwie wiadomości $m_1$ i $m_2$. Otrzymane szyfrogramy są postaci:\n",
    "$$c_1=m_1^e\\mod n\\qquad c_2=m_2^e\\mod n.$$\n",
    "\n",
    "Jeżeli teraz spróbujemy zdeszyfrować kluczem prywatnym iloczyn otrzymanych szyfrogramów, to otrzymamy\n",
    "$$(c_1c_2)^d\\mod n=c_1^dc_2^d\\mod n=(c_1^d\\mod n)(c_2^d\\mod n)=m_1m_2$$\n",
    "\n",
    "Otrzymaliśmy zatem, że\n",
    "$$D\\big(E(m_1)E(m_2)\\big)=m_1m_2$$\n",
    "czyli **RSA jest częściowo homomorficzny ze względu na mnożenie**."
   ]
  },
  {
   "cell_type": "markdown",
   "id": "3fe48a8e",
   "metadata": {},
   "source": [
    "## Ćwiczenie 1.\n",
    "\n",
    "Korzystając z implementacji RSA z ostatnich zajęć sprawdź czy są limity dla liczby homomorficznych operacji mnożenia (tzn. czy od jakiejś liczby operacji na szyfrogramach zaczynamy otrzymywać błędne deszyfrowanie)."
   ]
  },
  {
   "cell_type": "code",
   "execution_count": 4,
   "id": "e1d1f8f5",
   "metadata": {},
   "outputs": [
    {
     "name": "stdout",
     "output_type": "stream",
     "text": [
      "c1 31381059609,c2 177147, d 0.09090909090909091, e 11, n 7777705555480000722223\n",
      "m1  9.0\n",
      "m2  3.0\n",
      "27.000000000000004\n",
      "27\n"
     ]
    }
   ],
   "source": [
    "# p = 77777677777\n",
    "# q = 99999199999 \n",
    "# p=101\n",
    "# q=103\n",
    "\n",
    "def generate_keys_rsa():\n",
    "    p = 77777677777\n",
    "    q = 99999199999 \n",
    "    n = p*q\n",
    "    eu = (p-1)*(q-1)\n",
    "    e = -1\n",
    "    for i in range(10,eu-1):\n",
    "        if coprime(eu,i):\n",
    "            e = i\n",
    "            break\n",
    "    d = e**(-1)%eu\n",
    "    return n, e, d\n",
    "\n",
    "def encrypt_rsa(m, n, e):\n",
    "    return (m**e)%n\n",
    "\n",
    "def decipher_rsa(c, d):\n",
    "    return c**d\n",
    "\n",
    "def gcd(p, q):\n",
    "    while q != 0:\n",
    "        p, q = q, p % q\n",
    "    return p\n",
    "\n",
    "def coprime(a, b):\n",
    "    return gcd(a, b) == 1\n",
    "\n",
    "n_rsa,e_rsa,d_rsa = generate_keys_rsa()\n",
    "m1 = 9\n",
    "m2 = 3\n",
    "\n",
    "c1 = encrypt_rsa(m1, n_rsa, e_rsa)\n",
    "c2 = encrypt_rsa(m2, n_rsa, e_rsa)\n",
    "print(f\"c1 {c1},c2 {c2}, d {d_rsa}, e {e_rsa}, n {n_rsa}\")\n",
    "m1_deciphered = decipher_rsa(c1,d_rsa)\n",
    "m2_deciphered = decipher_rsa(c2,d_rsa)\n",
    "\n",
    "print(\"m1 \",m1_deciphered)\n",
    "print(\"m2 \",m2_deciphered)\n",
    "\n",
    "print(decipher_rsa(c1*c2,d_rsa))\n",
    "print(m1*m2)\n"
   ]
  },
  {
   "cell_type": "markdown",
   "id": "de6bc5bb",
   "metadata": {},
   "source": [
    "Dla p = 77777677777 i q = 99999199999 limit to 97. Dla p = 10301 i q = 10501 limit to 5."
   ]
  },
  {
   "cell_type": "markdown",
   "id": "0ac7ebe4",
   "metadata": {},
   "source": [
    "## Kryptosystem Pailliera\n",
    "\n",
    "### Generowanie kluczy\n",
    "- wybieramy losowo liczby pierwsze $p$, $q$ o tej samej długości w zapisie dziesiętnym i obliczamy $n=pq$, $g=n+1$, $\\lambda=\\phi(n)=(p-1)(q-1)$ oraz  $\\mu =\\phi (n)^{-1}{\\mod {n}}$.\n",
    "- kluczem publicznym jest $(n,g)$ a kluczem prywatnym $(\\lambda,\\mu)$\n",
    "\n",
    "\n",
    "### Szyfrowanie\n",
    "Szyfrujemy liczbę $0\\leq m<n$. Wybieramy losowe $r<n$ względnie pierwsze z $n$ i obliczamy szyfrogram $$c=g^{m}\\cdot r^{n}{\\mod {n}}^{2}.$$\n",
    "\n",
    "\n",
    "### Deszyfrowanie\n",
    "Obliczamy $$m=\\mu L(c^{\\lambda }{\\bmod {n}}^{2}){\\bmod {n}},$$ gdzie  $L(x)$ to największa liczba naturalna $\\nu$ taka, że $x-1\\geq \\nu n$.\n",
    "\n",
    "Pomimo czynnika losowego przy szyfrowaniu, kryptosystem Pailliera ma własność $$D\\big(E(m_{1},r_{1})\\cdot E(m_{2},r_{2})\\big)=m_{1}+m_{2}$$\n",
    "a zatem jest **częściowo homomorficzny ze względu na dodawanie**."
   ]
  },
  {
   "cell_type": "markdown",
   "id": "85346647",
   "metadata": {},
   "source": [
    "## Ćwiczenie 2.\n",
    "\n",
    "Zaimplementuj kryptosystem Pailliera. Sprawdź, czy są limity homomorficznych operacji dodawania."
   ]
  },
  {
   "cell_type": "code",
   "execution_count": 3,
   "id": "9363aaff",
   "metadata": {},
   "outputs": [
    {
     "name": "stdout",
     "output_type": "stream",
     "text": [
      "n 10403, u 6867, g 10404, r 19, r2 16, l 10200\n",
      "c1 63918851\n",
      "c2 69387965\n",
      "m1_deciphered 5201\n",
      "m2_deciphered 5202\n"
     ]
    }
   ],
   "source": [
    "from random import randint\n",
    "# p = 77777677777\n",
    "# q = 99999199999 \n",
    "# p = 10301\n",
    "# q = 10501\n",
    "\n",
    "\n",
    "\n",
    "def generate_keys_paillier():\n",
    "    p=101\n",
    "    q=103\n",
    "    n = p*q\n",
    "    g=n+1\n",
    "    l = (p-1)*(q-1)\n",
    "    u = pow(l, -1, n)\n",
    "    r_canditates = []\n",
    "    for i in range(2,n):\n",
    "        if coprime(n,i):\n",
    "            r_canditates.append(i)\n",
    "        if len(r_canditates) == 20:\n",
    "            break\n",
    "    \n",
    "    r1 = r_canditates[randint(0,len(r_canditates)-1)]\n",
    "    r2 = r_canditates[randint(0,len(r_canditates)-1)]\n",
    "        \n",
    "    return n, u, g, r1, r2, l\n",
    "\n",
    "\n",
    "def encrypt_paillier(m, g, n, r):\n",
    "    return (g**m)*(r**n)%(n**2)\n",
    "\n",
    "def L(x,n):\n",
    "    return (x-1)//n\n",
    "    \n",
    "\n",
    "def decipher_paillier(c, u, n, l):\n",
    "    return u*L(c**l%(n**2),n)%n\n",
    "\n",
    "n_paillier,u_paillier,g_paillier, r1_paillier, r2_paillier, l_paillier = generate_keys_paillier()\n",
    "print(f\"n {n_paillier}, u {u_paillier}, g {g_paillier}, r {r1_paillier}, r2 {r2_paillier}, l {l_paillier}\")\n",
    "\n",
    "m1 = n_paillier//2\n",
    "m2 = n_paillier//2+1\n",
    "\n",
    "\n",
    "c1 = encrypt_paillier(m1, g_paillier, n_paillier, r1_paillier)\n",
    "c2 = encrypt_paillier(m2, g_paillier, n_paillier, r2_paillier)\n",
    "print(f\"c1 {c1}\")\n",
    "print(f\"c2 {c2}\")\n",
    "\n",
    "m1_deciphered = decipher_paillier(c1,u_paillier,n_paillier,l_paillier)\n",
    "m2_deciphered = decipher_paillier(c2,u_paillier,n_paillier,l_paillier)\n",
    "print(f\"m1_deciphered {m1_deciphered}\")\n",
    "print(f\"m2_deciphered {m2_deciphered}\")\n"
   ]
  },
  {
   "cell_type": "code",
   "execution_count": 20,
   "id": "a8aa3e0e",
   "metadata": {},
   "outputs": [
    {
     "data": {
      "text/plain": [
       "92204608"
      ]
     },
     "execution_count": 20,
     "metadata": {},
     "output_type": "execute_result"
    }
   ],
   "source": [
    "encrypt_paillier(6, g_paillier, n_paillier, r1_paillier)"
   ]
  },
  {
   "cell_type": "code",
   "execution_count": null,
   "id": "3960a2bd",
   "metadata": {},
   "outputs": [
    {
     "name": "stdout",
     "output_type": "stream",
     "text": [
      "m1 + m2 = 10403\n",
      "decipher (c1*c2) = 0\n"
     ]
    }
   ],
   "source": [
    "print(f\"m1 + m2 = {m1 + m2}\")\n",
    "print(f\"decipher (c1*c2) = {decipher_paillier(c1*c2, u_paillier, n_paillier, l_paillier)}\")"
   ]
  },
  {
   "cell_type": "markdown",
   "id": "a024d7fc",
   "metadata": {},
   "source": [
    "Limit jest gdy suma m1 i m2 > n"
   ]
  },
  {
   "cell_type": "markdown",
   "id": "d9c1736f",
   "metadata": {},
   "source": [
    "Kryptosystem nazywamy *w pewnym sensie homomorficznym*, jeżeli operacjami na samych szyfrogramach $E(m_1),...,E(m_k)$ jesteśmy w stanie obliczyć pewne określone kombinacje dodawania i mnożenia oryginalnych wiadomości $m_1,...,m_k$."
   ]
  },
  {
   "cell_type": "markdown",
   "id": "37a0ff2c",
   "metadata": {},
   "source": [
    "## Ćwiczenie 3.\n",
    "\n",
    "Wykorzystując RSA i Pailliera zaimplementuj kryptosystem, który będzie w stanie obliczyć $(m_1m_2+m_3)\\cdot m_4$. Wszystkie działania muszą się odbywać na danych zaszyfrowanych (nie możemy ujawnić chmurze żadnej wiadomości $m_1$, $m_2$, $m_3$, $m_4$). Czy jesteśmy w stanie w ten sposób skonstruować kryptosystem w pewnym sensie homomorficzny?"
   ]
  },
  {
   "cell_type": "code",
   "execution_count": 31,
   "id": "02c3d2e4",
   "metadata": {},
   "outputs": [
    {
     "name": "stdout",
     "output_type": "stream",
     "text": [
      "50\n",
      "50\n"
     ]
    }
   ],
   "source": [
    "# TYPE YOUR CODE BELOW\n",
    "m1 = 2\n",
    "m2 = 3\n",
    "m3 = 4\n",
    "m4 = 5\n",
    "\n",
    "expected_result = ((m1*m2+m3)*m4)\n",
    "print(expected_result)\n",
    "\n",
    "def encrypt4(m1, m2, m3, m4):\n",
    "    c1 = encrypt_rsa(m1, n_rsa, e_rsa)\n",
    "    c2 = encrypt_rsa(m2, n_rsa, e_rsa)\n",
    "    c3 = encrypt_paillier(m3, g_paillier, n_paillier, r1_paillier)\n",
    "    c4 = encrypt_rsa(m4, n_rsa, e_rsa)\n",
    "    return c1, c2, c3, c4\n",
    "\n",
    "c1, c2, c3, c4 = encrypt4(m1, m2, m3, m4)\n",
    "\n",
    "rsa_m1m2 = c1*c2\n",
    "# print(decipher_rsa(rsa_m1m2, d_rsa))\n",
    "p_m1m2 = encrypt_paillier(round(decipher_rsa(rsa_m1m2, d_rsa)),g_paillier,n_paillier,r1_paillier)\n",
    "p_m1m2m3 = p_m1m2*c3\n",
    "r_m1m2m3m4 = encrypt_rsa(round(decipher_paillier(p_m1m2m3, u_paillier,n_paillier, l_paillier)), n_rsa, e_rsa)*c4\n",
    "\n",
    "\n",
    "print(round(decipher_rsa(r_m1m2m3m4,d_rsa)))\n"
   ]
  },
  {
   "cell_type": "code",
   "execution_count": null,
   "id": "0a220b8a",
   "metadata": {},
   "outputs": [],
   "source": []
  }
 ],
 "metadata": {
  "kernelspec": {
   "display_name": "cryptography",
   "language": "python",
   "name": "python3"
  },
  "language_info": {
   "codemirror_mode": {
    "name": "ipython",
    "version": 3
   },
   "file_extension": ".py",
   "mimetype": "text/x-python",
   "name": "python",
   "nbconvert_exporter": "python",
   "pygments_lexer": "ipython3",
   "version": "3.13.2"
  }
 },
 "nbformat": 4,
 "nbformat_minor": 5
}
