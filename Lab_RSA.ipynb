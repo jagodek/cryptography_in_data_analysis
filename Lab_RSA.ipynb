{
 "cells": [
  {
   "cell_type": "markdown",
   "id": "ef9d5667",
   "metadata": {},
   "source": [
    "# Metody kryptografii w analizie danych\n",
    "\n",
    "# Algorytm RSA"
   ]
  },
  {
   "cell_type": "markdown",
   "id": "46ad5ff7",
   "metadata": {},
   "source": [
    "Obecnie najpopularniejszy algorytm kryptografi asymetrycznej. Opublikowany w 1977 roku w *Scientific American's Mathematical Games* przez Rona Rivesta, Adiego Shamira i Leonarda Adlemana. Opiera się na problemie faktoryzacji liczb.\n",
    "\n",
    "W uproszczonej wersji algorytm RSA wygląda następująco:"
   ]
  },
  {
   "cell_type": "markdown",
   "id": "38c9759b",
   "metadata": {},
   "source": [
    "### Generowanie kluczy\n",
    "\n",
    "- Wybieramy dwie losowe liczby pierwsze $p$ i $q$\n",
    "- Obliczamy $n=pq$\n",
    "- Obliczamy funkcję Eulera $\\phi(n)=(p-1)(q-1)$\n",
    "- Wybieramy $e\\in\\{2,...,\\phi(n)-1\\}$ względnie pierwszą z $\\phi(n)$\n",
    "- Obliczamy $d=e^{-1}\\mod \\phi(n)$\n",
    "- Klucz publiczny to para $(n,e)$ a klucz prywatny to para $(n,d)$.\n"
   ]
  },
  {
   "cell_type": "markdown",
   "id": "534de81a",
   "metadata": {},
   "source": [
    "### Szyfrowanie\n",
    "Mamy dany klucz publiczny $(n,e)$. Wiadomość szyfrowana jest liczbą $m\\in [0,n)$.\n",
    "- Obliczamy szyfrogram $$c=m^e\\mod n.$$\n",
    "\n",
    "Teoretycznie może się zdarzyć, że szyfrogram $c$ jest taki sam, jak szyfrowana wiadomość $m$."
   ]
  },
  {
   "cell_type": "markdown",
   "id": "103acb53",
   "metadata": {},
   "source": [
    "### Deszyfrowanie\n",
    "- Obliczamy odszyfrowaną wiadomość $$m=c^d=m^{ed}\\mod n$$"
   ]
  },
  {
   "cell_type": "markdown",
   "id": "6a70f48f",
   "metadata": {},
   "source": [
    "## Ćwiczenie 1.\n",
    "\n",
    "Zaimplementuj uproszczony algorytm RSA."
   ]
  },
  {
   "cell_type": "code",
   "execution_count": 109,
   "id": "f06ccb8f",
   "metadata": {},
   "outputs": [
    {
     "name": "stdout",
     "output_type": "stream",
     "text": [
      "c 3330259995641258185021, d 9.9999999e-09, e 100000001, n 7777705555480000722223\n",
      "1.0000004955734911\n"
     ]
    }
   ],
   "source": [
    "\n",
    "from Crypto.Util.number import getStrongPrime \n",
    "from math import sqrt\n",
    "\n",
    "p = 77777677777\n",
    "q = 99999199999 \n",
    "# p = 10301\n",
    "# q = 10501\n",
    "\n",
    "def generate_keys():\n",
    "    # p = getStrongPrime(768)\n",
    "    # q = getStrongPrime(768)\n",
    "\n",
    "    \n",
    "\n",
    "    n = p*q\n",
    "    eu = (p-1)*(q-1)\n",
    "    e = -1\n",
    "    for i in range(100000000,eu-1):\n",
    "        if coprime(eu,i):\n",
    "            e = i\n",
    "            break\n",
    "    d = (e**(-1)) % eu\n",
    "    return n, e, d\n",
    "\n",
    "def encrypt(m, n, e):\n",
    "    return (m**e)%n\n",
    "\n",
    "def decipher(c, n, d):\n",
    "    return c**d\n",
    "\n",
    "def gcd(p, q):\n",
    "    while q != 0:\n",
    "        p, q = q, p % q\n",
    "    return p\n",
    "\n",
    "def coprime(a, b):\n",
    "    return gcd(a, b) == 1\n",
    "\n",
    "n,e,d = generate_keys()\n",
    "m = 5\n",
    "c = encrypt(m, n, e)\n",
    "print(f\"c {c}, d {d}, e {e}, n {n}\")\n",
    "m_deciphered = decipher(c,n,d)\n",
    "print(m_deciphered)\n"
   ]
  },
  {
   "cell_type": "markdown",
   "id": "6d58ab81",
   "metadata": {},
   "source": [
    "# Proste ataki na RSA"
   ]
  },
  {
   "cell_type": "markdown",
   "id": "d825d411",
   "metadata": {},
   "source": [
    "## Brute force\n",
    "\n",
    "Najprostszym (ale też najmniej efektywnym i najbardziej bezsensownym) możliwym atakiem na RSA jest atak brute force:\n",
    "\n",
    "#### Krok 1.\n",
    "- Wersja 1: tablicujemy wszystkie liczby pierwsze mniejsze lub równe $\\sqrt{n}$ do tablicy $T$.\n",
    "- Wersja 2: pomijamy tablicowanie i w kroku 2. po prostu sprawdzamy wszystkie liczby naturalne mniejsze lub równe $\\sqrt{n}$\n",
    "\n",
    "#### Krok 2.\n",
    "- Wersja 1: sprawdzamy podzielność $n$ przez każdą $p\\in T$.\n",
    "- Wersja 2: sprawdzamy podzielność $n$ przez każdą liczbę naturalną mniejszą lub równą $\\sqrt{n}$\n",
    "\n",
    "#### Krok 3.\n",
    "Mając faktoryzację $pq=n$ obliczamy $\\phi(n)$ oraz odtwarzamy $d=e^{-1}\\mod \\phi(n)$."
   ]
  },
  {
   "cell_type": "markdown",
   "id": "2ad1a654",
   "metadata": {},
   "source": [
    "## Ćwiczenie 2.\n",
    "Zaimplementuj atak brute force i przetestuj go na swojej implementacji RSA. Jeżeli atak zakończył się sukcesem - popraw implementację kryptosystemu. Jakie założenia powinny spełniać parametry kryptosystemu, aby atak się nie powiódł?"
   ]
  },
  {
   "cell_type": "code",
   "execution_count": 93,
   "id": "0b05c424",
   "metadata": {},
   "outputs": [
    {
     "ename": "KeyboardInterrupt",
     "evalue": "",
     "output_type": "error",
     "traceback": [
      "\u001b[0;31m---------------------------------------------------------------------------\u001b[0m",
      "\u001b[0;31mKeyboardInterrupt\u001b[0m                         Traceback (most recent call last)",
      "Cell \u001b[0;32mIn[93], line 5\u001b[0m\n\u001b[1;32m      3\u001b[0m seeked_p \u001b[38;5;241m=\u001b[39m \u001b[38;5;241m-\u001b[39m\u001b[38;5;241m1\u001b[39m\n\u001b[1;32m      4\u001b[0m \u001b[38;5;28;01mfor\u001b[39;00m i \u001b[38;5;129;01min\u001b[39;00m \u001b[38;5;28mrange\u001b[39m(\u001b[38;5;241m3\u001b[39m, \u001b[38;5;28mint\u001b[39m(sqrt(n))\u001b[38;5;241m+\u001b[39m\u001b[38;5;241m1\u001b[39m,\u001b[38;5;241m2\u001b[39m):\n\u001b[0;32m----> 5\u001b[0m     \u001b[38;5;28;01mif\u001b[39;00m n \u001b[38;5;241m%\u001b[39m i \u001b[38;5;241m==\u001b[39m \u001b[38;5;241m0\u001b[39m:\n\u001b[1;32m      6\u001b[0m         seeked_p \u001b[38;5;241m=\u001b[39m i\n\u001b[1;32m      8\u001b[0m seeked_q \u001b[38;5;241m=\u001b[39m n\u001b[38;5;241m/\u001b[39mseeked_p\n",
      "\u001b[0;31mKeyboardInterrupt\u001b[0m: "
     ]
    }
   ],
   "source": [
    "from math import sqrt\n",
    "\n",
    "seeked_p = -1\n",
    "for i in range(3, int(sqrt(n))+1,2):\n",
    "    if n % i == 0:\n",
    "        seeked_p = i\n",
    "\n",
    "seeked_q = n/seeked_p\n",
    "\n",
    "seeked_eu = (seeked_p-1)*(seeked_q-1)\n",
    "\n",
    "seeked_d = (e**(-1))%n\n",
    "print(seeked_d)\n",
    "\n",
    "# brak sukcesu po 5 minutach. Na tyle duże p i q powoduje długi czas działania ataku brute force."
   ]
  },
  {
   "cell_type": "markdown",
   "id": "38c9ac34",
   "metadata": {},
   "source": [
    "## Faktoryzacja Fermata"
   ]
  },
  {
   "cell_type": "markdown",
   "id": "d2a5b17b",
   "metadata": {},
   "source": [
    "Faktoryzacja Fermata liczby nieparzystej $n$ opiera się na znalezieniu pary liczb $a,b$ takich, że $n=a^2-b^2$. Wtedy od razu otrzymujemy faktoryzację $$n=(a+b)(a-b).$$\n",
    "\n",
    "Dla dowolnej złożonej liczby nieparzystej (tzn. liczby nieparzystej nie będącej liczbą pierwszą) znajdziemy takie liczby $a,b$. W szczególności, w przypadku $n=pq$ (jak w RSA) mamy $$a=\\frac{p+q}{2},\\qquad b=\\frac{p-q}{2}.$$"
   ]
  },
  {
   "cell_type": "markdown",
   "id": "5942a512",
   "metadata": {},
   "source": [
    "#### Krok 0.\n",
    "Sprawdzamy, czy $\\sqrt{n}$ jest liczbą naturalną. Jeżeli tak - znaleźliśmy faktoryzację i koniec algorytmu.\n",
    "#### Krok 1.\n",
    "Definiujemy zmienne pomocnicze\n",
    "$$a = \\left\\lceil\\sqrt{n}\\right\\rceil,\\qquad\n",
    "b^2 = r^2 - n.$$\n",
    "#### Krok 2.\n",
    "Jeżeli $\\sqrt{b^2}$ jest liczbą całkowitą, to kończymy algorytm i zwracamy $a$ oraz $b=\\sqrt{b^2}$. Jeżeli nie, to aktualizujemy zmienne:\n",
    "$$a=a + 1,\\qquad b^2=a^2 - n.$$\n"
   ]
  },
  {
   "cell_type": "markdown",
   "id": "d7881084",
   "metadata": {},
   "source": [
    "## Ćwiczenie 3.\n",
    "Zaimplementuj atak z użyciem faktoryzacji Fermata i przetestuj go na swojej implementacji RSA. Jeżeli atak zakończył się sukcesem - popraw implementację kryptosystemu. Jakie założenia powinny spełniać parametry kryptosystemu, aby atak się nie powiódł?"
   ]
  },
  {
   "cell_type": "code",
   "execution_count": 94,
   "id": "2f94f9bf",
   "metadata": {},
   "outputs": [
    {
     "name": "stdout",
     "output_type": "stream",
     "text": [
      "n 7777705555480000722223\n",
      "p 77777677777, q 99999199999\n"
     ]
    },
    {
     "ename": "KeyboardInterrupt",
     "evalue": "",
     "output_type": "error",
     "traceback": [
      "\u001b[0;31m---------------------------------------------------------------------------\u001b[0m",
      "\u001b[0;31mKeyboardInterrupt\u001b[0m                         Traceback (most recent call last)",
      "Cell \u001b[0;32mIn[94], line 10\u001b[0m\n\u001b[1;32m      8\u001b[0m a \u001b[38;5;241m=\u001b[39m ceil(sqrt(n))\n\u001b[1;32m      9\u001b[0m b \u001b[38;5;241m=\u001b[39m a\u001b[38;5;241m*\u001b[39m\u001b[38;5;241m*\u001b[39m\u001b[38;5;241m2\u001b[39m \u001b[38;5;241m-\u001b[39m n\n\u001b[0;32m---> 10\u001b[0m \u001b[38;5;28;01mwhile\u001b[39;00m \u001b[38;5;28;01mTrue\u001b[39;00m:\n\u001b[1;32m     12\u001b[0m     \u001b[38;5;28;01mif\u001b[39;00m \u001b[38;5;28mround\u001b[39m(sqrt(b))\u001b[38;5;241m*\u001b[39m\u001b[38;5;241m*\u001b[39m\u001b[38;5;241m2\u001b[39m \u001b[38;5;241m==\u001b[39m b:\n\u001b[1;32m     13\u001b[0m         \u001b[38;5;28;01mbreak\u001b[39;00m\n",
      "\u001b[0;31mKeyboardInterrupt\u001b[0m: "
     ]
    }
   ],
   "source": [
    "from math import ceil\n",
    "\n",
    "print(f\"n {n}\")\n",
    "print(f\"p {p}, q {q}\")\n",
    "if abs(round(sqrt(n)) - sqrt(n)) < 0e-8:\n",
    "    seeked_p = seeked_q = round(sqrt(n))\n",
    "\n",
    "a = ceil(sqrt(n))\n",
    "b = a**2 - n\n",
    "while True:\n",
    "    \n",
    "    if round(sqrt(b))**2 == b:\n",
    "        break\n",
    "    a = a + 1\n",
    "    b = a**2 - n\n",
    "\n",
    "\n",
    "print(a)\n",
    "print(b)\n",
    "print(a+sqrt(b))\n",
    "print(a-sqrt(b))\n",
    "\n",
    "# brak sukcesu po kilku minutach. Dla tego ataku lepiej jest żeby p i q były \"daleko\" od sqrt(N)"
   ]
  },
  {
   "cell_type": "markdown",
   "id": "6854dec5",
   "metadata": {},
   "source": [
    "# Ataki nie wykorzystujące faktoryzacji"
   ]
  },
  {
   "cell_type": "markdown",
   "id": "c03492fd",
   "metadata": {},
   "source": [
    "## Atak naiwny"
   ]
  },
  {
   "cell_type": "markdown",
   "id": "9363c876",
   "metadata": {},
   "source": [
    "Jeżeli wykładnik $e$ jest niewielki oraz dla wiadomości $m$ wartość $m^e<n$, to $c=m^e\\mod n=m^e$. Możemy zatem odzyskać $m$ obliczając $m=\\sqrt[e]{c}$."
   ]
  },
  {
   "cell_type": "markdown",
   "id": "09fb040c",
   "metadata": {},
   "source": [
    "## Ćwiczenie 3.\n",
    "Sprawdź, czy Twoja implementacja RSA jest podatna na powyższy atak wykonując co najmniej 1000 prób. Jeżeli którakolwiek zakończyła się powodzeniem - popraw implementację. Jakie założenia powinny spełniać parametry kryptosystemu, żeby atak nie miał szans powodzenia?"
   ]
  },
  {
   "cell_type": "code",
   "execution_count": null,
   "id": "03cb97de",
   "metadata": {},
   "outputs": [
    {
     "name": "stdout",
     "output_type": "stream",
     "text": [
      "c 3330259995641258185021\n"
     ]
    },
    {
     "ename": "KeyboardInterrupt",
     "evalue": "",
     "output_type": "error",
     "traceback": [
      "\u001b[0;31m---------------------------------------------------------------------------\u001b[0m",
      "\u001b[0;31mKeyboardInterrupt\u001b[0m                         Traceback (most recent call last)",
      "Cell \u001b[0;32mIn[111], line 5\u001b[0m\n\u001b[1;32m      3\u001b[0m \u001b[38;5;28;01mfor\u001b[39;00m seeked_e \u001b[38;5;129;01min\u001b[39;00m \u001b[38;5;28mrange\u001b[39m(\u001b[38;5;241m2\u001b[39m,\u001b[38;5;241m3330259995641258185021\u001b[39m):\n\u001b[1;32m      4\u001b[0m     seeked_m \u001b[38;5;241m=\u001b[39m c\u001b[38;5;241m*\u001b[39m\u001b[38;5;241m*\u001b[39m(\u001b[38;5;241m1\u001b[39m\u001b[38;5;241m/\u001b[39mseeked_e)\n\u001b[0;32m----> 5\u001b[0m     \u001b[38;5;28;01mif\u001b[39;00m \u001b[38;5;28mabs\u001b[39m(seeked_m \u001b[38;5;241m-\u001b[39m m) \u001b[38;5;241m<\u001b[39m \u001b[38;5;241m0.01\u001b[39m:\n\u001b[1;32m      6\u001b[0m         \u001b[38;5;28;01mbreak\u001b[39;00m\n\u001b[1;32m      7\u001b[0m \u001b[38;5;28;01melse\u001b[39;00m:\n",
      "\u001b[0;31mKeyboardInterrupt\u001b[0m: "
     ]
    }
   ],
   "source": [
    "print(f\"c {c}\")\n",
    "\n",
    "for seeked_e in range(2,3330259995641258185021):\n",
    "    seeked_m = c**(1/seeked_e)\n",
    "    if abs(seeked_m - m) < 0.01:\n",
    "        break\n",
    "else:\n",
    "    print(\"haven't found e\")\n",
    "\n",
    "print(f\"found e {seeked_e}\")\n",
    "# wystarczająco duży przedział wyznaczania e podczas generowania kluczy. \n"
   ]
  },
  {
   "cell_type": "markdown",
   "id": "719631e6",
   "metadata": {},
   "source": [
    "## Atak Wienera"
   ]
  },
  {
   "cell_type": "markdown",
   "id": "dfafb8d3",
   "metadata": {},
   "source": [
    "Atak Wienera odtwarza klucz prywatny $d$ z klucza publicznego $(n,e)$ bez konieczności faktoryzacji $n$.\n",
    "\n",
    "#### Krok 1.\n",
    "Przeksztacamy ułamek $\\frac{e}{n}$ na ułamek łańcuchowy postaci $${\\displaystyle x=a_{0}+{\\cfrac {1}{a_{1}+{\\cfrac {1}{a_{2}+{\\cfrac {1}{a_{3}+{\\cfrac {1}{a_{4}+\\ddots \\,\\frac{1}{a_k}}}}}}}}}}$$o standardowej reprezentacji $[a_0;a_1,a_2,...,a_{k−2},a_{k−1},a_k]$.\n",
    "\n",
    "#### Krok 2.\n",
    "Dla każdego reduktu ułamka łańcuchowego, tzn. ułamka łańcuchowego postaci $[a_0]$, $[a_0;a_1]$, $[a_0;a_1,a_2]$,...,$[a_0;a_1,a_2,...,a_{k−2},a_{k−1},a_k]$ sprawdzamy, czy jest on rozwinięciem ułamka $\\frac{s}{d}$ w ułamek łańcuchowy dla pewnej stałej $s$:\n",
    "- niech $l$ oznacza licznik a $m$ - mianownik reduktu\n",
    "- sprawdź, czy mianownik $m$ jest nieparzysty. Jeżeli nie - przejdź do sprawdzania kolejnego reduktu.\n",
    "- sprawdź, czy $em=1\\mod l$. Jeżeli nie - przejdź do sprawdzania kolejnego reduktu.\n",
    "- zdefiniuj wielomian pomocniczy $$Q(x)=x^2-(n-\\frac{em-1}{l}+1)x+n.$$Jeżeli pierwiastki tego wielomianu są liczbami całkowitymi, to aktualny mianownik $m$ reduktu jest szukanym kluczem prywatnym $d$.\n",
    "\n",
    "\n",
    "Atak Wienera niekoniecznie musi zakończyć się sukcesem - jeżeli sprawdzimy wszystkie redukty i żaden nie jest rozwinięciem $\\frac{s}{d}$, to dany zestaw parametrów RSA jest odporny na ten atak."
   ]
  },
  {
   "cell_type": "markdown",
   "id": "febae910",
   "metadata": {},
   "source": [
    "## Ćwiczenie 4.\n",
    "\n",
    "Sprawdź, czy Twoja implementacja RSA jest podatna na atak Wienera wykonując co najmniej 100 prób. Jeżeli którakolwiek zakończyła się powodzeniem - popraw implementację. Jakie założenia powinny spełniać parametry kryptosystemu, żeby atak nie miał szans powodzenia?"
   ]
  },
  {
   "cell_type": "code",
   "execution_count": null,
   "id": "9f0a7f69",
   "metadata": {},
   "outputs": [],
   "source": [
    "# TYPE YOUR CODE BELOW\n"
   ]
  }
 ],
 "metadata": {
  "kernelspec": {
   "display_name": "cryptography",
   "language": "python",
   "name": "python3"
  },
  "language_info": {
   "codemirror_mode": {
    "name": "ipython",
    "version": 3
   },
   "file_extension": ".py",
   "mimetype": "text/x-python",
   "name": "python",
   "nbconvert_exporter": "python",
   "pygments_lexer": "ipython3",
   "version": "3.13.2"
  }
 },
 "nbformat": 4,
 "nbformat_minor": 5
}
